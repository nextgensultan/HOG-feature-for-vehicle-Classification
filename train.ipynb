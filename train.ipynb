{
 "cells": [
  {
   "cell_type": "code",
   "execution_count": 1,
   "metadata": {
    "_cell_guid": "b1076dfc-b9ad-4769-8c92-a6c4dae69d19",
    "_uuid": "8f2839f25d086af736a60e9eeb907d3b93b6e0e5",
    "execution": {
     "iopub.execute_input": "2025-01-21T18:30:05.727671Z",
     "iopub.status.busy": "2025-01-21T18:30:05.727371Z",
     "iopub.status.idle": "2025-01-21T18:30:05.731311Z",
     "shell.execute_reply": "2025-01-21T18:30:05.730450Z",
     "shell.execute_reply.started": "2025-01-21T18:30:05.727638Z"
    },
    "trusted": true
   },
   "outputs": [],
   "source": [
    "# # This Python 3 environment comes with many helpful analytics libraries installed\n",
    "# # It is defined by the kaggle/python Docker image: https://github.com/kaggle/docker-python\n",
    "# # For example, here's several helpful packages to load\n",
    "\n",
    "# import numpy as np # linear algebra\n",
    "# import pandas as pd # data processing, CSV file I/O (e.g. pd.read_csv)\n",
    "\n",
    "# # Input data files are available in the read-only \"../input/\" directory\n",
    "# # For example, running this (by clicking run or pressing Shift+Enter) will list all files under the input directory\n",
    "\n",
    "# import os\n",
    "# for dirname, _, filenames in os.walk('/kaggle/input'):\n",
    "#     for filename in filenames:\n",
    "#         print(os.path.join(dirname, filename))\n",
    "\n",
    "# # You can write up to 20GB to the current directory (/kaggle/working/) that gets preserved as output when you create a version using \"Save & Run All\" \n",
    "# # You can also write temporary files to /kaggle/temp/, but they won't be saved outside of the current session"
   ]
  },
  {
   "cell_type": "code",
   "execution_count": 2,
   "metadata": {
    "execution": {
     "iopub.execute_input": "2025-01-21T18:30:05.733271Z",
     "iopub.status.busy": "2025-01-21T18:30:05.732954Z",
     "iopub.status.idle": "2025-01-21T18:30:05.746330Z",
     "shell.execute_reply": "2025-01-21T18:30:05.745549Z",
     "shell.execute_reply.started": "2025-01-21T18:30:05.733240Z"
    },
    "trusted": true
   },
   "outputs": [],
   "source": [
    "# !pip install torchvision"
   ]
  },
  {
   "cell_type": "code",
   "execution_count": 3,
   "metadata": {
    "execution": {
     "iopub.execute_input": "2025-01-21T18:30:05.748384Z",
     "iopub.status.busy": "2025-01-21T18:30:05.748104Z",
     "iopub.status.idle": "2025-01-21T18:30:11.903575Z",
     "shell.execute_reply": "2025-01-21T18:30:11.902937Z",
     "shell.execute_reply.started": "2025-01-21T18:30:05.748350Z"
    },
    "trusted": true
   },
   "outputs": [],
   "source": [
    "from torchvision import transforms\n",
    "import torch.nn as nn\n",
    "import numpy as np\n",
    "import os\n",
    "from PIL import Image\n",
    "from torch.utils.data import DataLoader , Dataset , Subset\n",
    "import torch\n",
    "from sklearn.model_selection import train_test_split\n",
    "from HOG import HOG\n",
    "from Softmax import Softmax\n"
   ]
  },
  {
   "cell_type": "markdown",
   "metadata": {},
   "source": [
    "# Lets Start with the loading the dataset for Training our Model"
   ]
  },
  {
   "cell_type": "code",
   "execution_count": 4,
   "metadata": {
    "execution": {
     "iopub.execute_input": "2025-01-21T18:30:11.905202Z",
     "iopub.status.busy": "2025-01-21T18:30:11.904799Z",
     "iopub.status.idle": "2025-01-21T18:30:11.908513Z",
     "shell.execute_reply": "2025-01-21T18:30:11.907672Z",
     "shell.execute_reply.started": "2025-01-21T18:30:11.905176Z"
    },
    "trusted": true
   },
   "outputs": [],
   "source": [
    "import kagglehub\n",
    "path = kagglehub.dataset_download(\"maciejgronczynski/vehicle-classification-dataset\")\n",
    "print(\"Path to dataset files:\", path)"
   ]
  },
  {
   "cell_type": "code",
   "execution_count": 7,
   "metadata": {
    "execution": {
     "iopub.execute_input": "2025-01-21T18:30:11.943286Z",
     "iopub.status.busy": "2025-01-21T18:30:11.942988Z",
     "iopub.status.idle": "2025-01-21T18:30:11.954316Z",
     "shell.execute_reply": "2025-01-21T18:30:11.953678Z",
     "shell.execute_reply.started": "2025-01-21T18:30:11.943258Z"
    },
    "trusted": true
   },
   "outputs": [],
   "source": [
    "\n",
    "class CreateDataset(Dataset):\n",
    "    def __init__(self,DataSetPath,folders,HOG):\n",
    "        imagesPath = list()\n",
    "        labels = list()\n",
    "        for folder in folders:\n",
    "            for root,subdirs,files in os.walk(os.path.join(DataSetPath,folder)):\n",
    "                imagesPath.extend([os.path.join(root , file) for file in files])\n",
    "                labels.extend([folder for _ in files])        \n",
    "        self.imagesPath = imagesPath\n",
    "        self.labels = labels\n",
    "        self.HOG = HOG\n",
    "        self.LabelToIdxMapping = {label:idx for idx,label in enumerate(folders)}\n",
    "        \n",
    "    def __len__(self):\n",
    "        return len(self.labels)\n",
    "        \n",
    "    def __getitem__(self,index):\n",
    "        image = Image.open(self.imagesPath[index]).convert('L')\n",
    "        hog_image = self.HOG.GetFeatures(image)\n",
    "        hog_tensor = torch.tensor(hog_image, dtype=torch.float32)\n",
    "        # Encode the label to a tensor\n",
    "        label = self.LabelToIdxMapping[self.labels[index]]\n",
    "        label_tensor = torch.tensor(label, dtype=torch.long)\n",
    "        return {\"image\": hog_tensor, \"Label\": label_tensor}\n"
   ]
  },
  {
   "cell_type": "code",
   "execution_count": 19,
   "metadata": {
    "execution": {
     "iopub.execute_input": "2025-01-21T18:40:39.410820Z",
     "iopub.status.busy": "2025-01-21T18:40:39.410515Z",
     "iopub.status.idle": "2025-01-21T18:41:27.083300Z",
     "shell.execute_reply": "2025-01-21T18:41:27.082624Z",
     "shell.execute_reply.started": "2025-01-21T18:40:39.410796Z"
    },
    "trusted": true
   },
   "outputs": [],
   "source": [
    "# Initialize the dataset\n",
    "DataSetPath = \"/kaggle/input/vehicle-classification-dataset/dataset\"\n",
    "folders = [\"cars\", \"planes\", \"trains\"]\n",
    "hogFeatures = HOG(9, 8, 2)\n",
    "datasets = CreateDataset(DataSetPath=DataSetPath, folders=folders, HOG=hogFeatures)\n",
    "\n",
    "indices = np.arange(len(datasets))  \n",
    "labels = [datasets[i][\"Label\"] for i in indices]\n",
    "\n",
    "train_indices, test_indices = train_test_split(\n",
    "    indices, test_size=0.2, random_state=42, stratify=labels\n",
    ")\n",
    "train_dataset = Subset(datasets, train_indices)\n",
    "test_dataset = Subset(datasets, test_indices)\n",
    "\n",
    "train_loader = DataLoader(dataset=train_dataset ,shuffle=True)\n",
    "val_loader = DataLoader(dataset=test_dataset, shuffle=False)"
   ]
  },
  {
   "cell_type": "code",
   "execution_count": 23,
   "metadata": {
    "execution": {
     "iopub.execute_input": "2025-01-21T18:50:59.948776Z",
     "iopub.status.busy": "2025-01-21T18:50:59.948429Z",
     "iopub.status.idle": "2025-01-21T18:51:00.132574Z",
     "shell.execute_reply": "2025-01-21T18:51:00.131632Z",
     "shell.execute_reply.started": "2025-01-21T18:50:59.948746Z"
    },
    "trusted": true
   },
   "outputs": [],
   "source": [
    "device = torch.device(\"cuda\" if torch.cuda.is_available() else \"cpu\")\n",
    "criterion = nn.CrossEntropyLoss()\n",
    "model = Softmax(inputNeurons=8100, hlayer1=2100, outputs=3).to(device)\n",
    "optimizer = torch.optim.SGD(model.parameters(), lr=0.01)\n",
    "# scheduler = torch.optim.lr_scheduler.CyclicLR(optimizer, base_lr=0.0001, max_lr=0.01, step_size_up=2000, mode='triangular')\n",
    "epochs = 50\n",
    "loss_history = []\n",
    "max_acc = 0\n",
    "best_model_path = \"softmax_HOG.pth\""
   ]
  },
  {
   "cell_type": "code",
   "execution_count": 24,
   "metadata": {
    "execution": {
     "iopub.execute_input": "2025-01-21T18:51:00.133999Z",
     "iopub.status.busy": "2025-01-21T18:51:00.133683Z",
     "iopub.status.idle": "2025-01-21T19:32:58.833434Z",
     "shell.execute_reply": "2025-01-21T19:32:58.832629Z",
     "shell.execute_reply.started": "2025-01-21T18:51:00.133974Z"
    },
    "trusted": true
   },
   "outputs": [
    {
     "name": "stdout",
     "output_type": "stream",
     "text": [
      "Epoch 1/50, Loss: 0.9470, Accuracy: 75.83%\n",
      "Epoch 2/50, Loss: 0.5496, Accuracy: 89.58%\n",
      "Epoch 3/50, Loss: 0.3610, Accuracy: 73.75%\n",
      "Epoch 4/50, Loss: 0.2381, Accuracy: 94.17%\n",
      "Epoch 5/50, Loss: 0.1764, Accuracy: 94.17%\n",
      "Epoch 6/50, Loss: 0.1446, Accuracy: 93.33%\n",
      "Epoch 7/50, Loss: 0.1264, Accuracy: 93.75%\n",
      "Epoch 8/50, Loss: 0.1092, Accuracy: 95.00%\n",
      "Epoch 9/50, Loss: 0.0525, Accuracy: 92.08%\n",
      "Epoch 10/50, Loss: 0.0454, Accuracy: 95.00%\n",
      "Epoch 11/50, Loss: 0.0516, Accuracy: 91.67%\n",
      "Epoch 12/50, Loss: 0.0158, Accuracy: 95.00%\n",
      "Epoch 13/50, Loss: 0.0230, Accuracy: 94.17%\n",
      "Epoch 14/50, Loss: 0.0303, Accuracy: 94.17%\n",
      "Epoch 15/50, Loss: 0.0355, Accuracy: 95.00%\n",
      "Epoch 16/50, Loss: 0.0044, Accuracy: 95.00%\n",
      "Epoch 17/50, Loss: 0.0272, Accuracy: 92.92%\n",
      "Epoch 18/50, Loss: 0.0036, Accuracy: 95.42%\n",
      "Epoch 19/50, Loss: 0.0009, Accuracy: 95.42%\n",
      "Epoch 20/50, Loss: 0.0006, Accuracy: 95.00%\n",
      "Epoch 21/50, Loss: 0.0005, Accuracy: 95.42%\n",
      "Epoch 22/50, Loss: 0.0004, Accuracy: 95.42%\n",
      "Epoch 23/50, Loss: 0.0003, Accuracy: 95.42%\n",
      "Epoch 24/50, Loss: 0.0003, Accuracy: 95.42%\n",
      "Epoch 25/50, Loss: 0.0002, Accuracy: 95.42%\n",
      "Epoch 26/50, Loss: 0.0002, Accuracy: 95.42%\n",
      "Epoch 27/50, Loss: 0.0002, Accuracy: 95.42%\n",
      "Epoch 28/50, Loss: 0.0002, Accuracy: 95.42%\n",
      "Epoch 29/50, Loss: 0.0001, Accuracy: 95.42%\n",
      "Epoch 30/50, Loss: 0.0001, Accuracy: 95.42%\n",
      "Epoch 31/50, Loss: 0.0001, Accuracy: 95.42%\n",
      "Epoch 32/50, Loss: 0.0001, Accuracy: 95.42%\n",
      "Epoch 33/50, Loss: 0.0001, Accuracy: 95.42%\n",
      "Epoch 34/50, Loss: 0.0001, Accuracy: 95.42%\n",
      "Epoch 35/50, Loss: 0.0001, Accuracy: 95.42%\n",
      "Epoch 36/50, Loss: 0.0001, Accuracy: 95.42%\n",
      "Epoch 37/50, Loss: 0.0001, Accuracy: 95.42%\n",
      "Epoch 38/50, Loss: 0.0001, Accuracy: 95.42%\n",
      "Epoch 39/50, Loss: 0.0001, Accuracy: 95.42%\n",
      "Epoch 40/50, Loss: 0.0001, Accuracy: 95.42%\n",
      "Epoch 41/50, Loss: 0.0001, Accuracy: 95.42%\n",
      "Epoch 42/50, Loss: 0.0001, Accuracy: 95.42%\n",
      "Epoch 43/50, Loss: 0.0001, Accuracy: 95.42%\n",
      "Epoch 44/50, Loss: 0.0001, Accuracy: 95.42%\n",
      "Epoch 45/50, Loss: 0.0001, Accuracy: 95.42%\n",
      "Epoch 46/50, Loss: 0.0001, Accuracy: 95.42%\n",
      "Epoch 47/50, Loss: 0.0001, Accuracy: 95.42%\n",
      "Epoch 48/50, Loss: 0.0001, Accuracy: 95.42%\n",
      "Epoch 49/50, Loss: 0.0001, Accuracy: 95.42%\n",
      "Epoch 50/50, Loss: 0.0001, Accuracy: 95.42%\n"
     ]
    }
   ],
   "source": [
    "for epoch in range(epochs):\n",
    "    model.train()\n",
    "    epoch_loss = 0.0\n",
    "\n",
    "    for batch in train_loader:\n",
    "        optimizer.zero_grad()\n",
    "        images = batch[\"image\"].to(device)\n",
    "        labels = batch[\"Label\"].to(device)\n",
    "        output = model(images)\n",
    "        loss = criterion(output, labels)\n",
    "        loss.backward()\n",
    "        optimizer.step()\n",
    "        # scheduler.step()\n",
    "        epoch_loss += loss.item()\n",
    "    loss_history.append(epoch_loss)\n",
    "    model.eval()\n",
    "    correctCount = 0\n",
    "    totalSamples = 0\n",
    "\n",
    "    with torch.no_grad():  \n",
    "        for batch in val_loader:\n",
    "            images = batch[\"image\"].to(device)\n",
    "            labels = batch[\"Label\"].to(device)\n",
    "            output = model(images)\n",
    "            predictions = torch.argmax(output, dim=1)\n",
    "            correctCount += (predictions == labels).sum().item()\n",
    "            totalSamples += labels.size(0)\n",
    "\n",
    "    accuracy = (correctCount / totalSamples) * 100\n",
    "\n",
    "    \n",
    "    if accuracy > max_acc:\n",
    "        max_acc = accuracy\n",
    "        torch.save(model.state_dict(), best_model_path)\n",
    "\n",
    "\n",
    "    print(f\"Epoch {epoch + 1}/{epochs}, Loss: {epoch_loss / len(train_loader):.4f}, Accuracy: {accuracy:.2f}%\")"
   ]
  },
  {
   "cell_type": "code",
   "execution_count": 1,
   "metadata": {
    "trusted": true
   },
   "outputs": [
    {
     "name": "stderr",
     "output_type": "stream",
     "text": [
      "c:\\Users\\hp\\Desktop\\Machine Learning\\ComputerVision\\HOG-feature-for-vehicle-Classification\\.venv\\Lib\\site-packages\\tqdm\\auto.py:21: TqdmWarning: IProgress not found. Please update jupyter and ipywidgets. See https://ipywidgets.readthedocs.io/en/stable/user_install.html\n",
      "  from .autonotebook import tqdm as notebook_tqdm\n",
      "c:\\Users\\hp\\Desktop\\Machine Learning\\ComputerVision\\HOG-feature-for-vehicle-Classification\\.venv\\Lib\\site-packages\\huggingface_hub\\utils\\_deprecation.py:131: FutureWarning: 'Repository' (from 'huggingface_hub.repository') is deprecated and will be removed from version '1.0'. Please prefer the http-based alternatives instead. Given its large adoption in legacy code, the complete removal is only planned on next major release.\n",
      "For more details, please read https://huggingface.co/docs/huggingface_hub/concepts/git_vs_http.\n",
      "  warnings.warn(warning_message, FutureWarning)\n",
      "Cloning https://huggingface.co/ibrahimsultan/HOG_Softmax_image_classifier into local empty directory.\n"
     ]
    },
    {
     "ename": "TypeError",
     "evalue": "Repository.push_to_hub() got an unexpected keyword argument 'files_to_push'",
     "output_type": "error",
     "traceback": [
      "\u001b[1;31m---------------------------------------------------------------------------\u001b[0m",
      "\u001b[1;31mTypeError\u001b[0m                                 Traceback (most recent call last)",
      "Cell \u001b[1;32mIn[1], line 11\u001b[0m\n\u001b[0;32m      8\u001b[0m repo\u001b[38;5;241m.\u001b[39mgit_pull()  \u001b[38;5;66;03m# Pull the latest changes\u001b[39;00m\n\u001b[0;32m     10\u001b[0m repo\u001b[38;5;241m.\u001b[39mlfs_track([MODEL_FILE])  \u001b[38;5;66;03m# Track large files with Git LFS\u001b[39;00m\n\u001b[1;32m---> 11\u001b[0m \u001b[43mrepo\u001b[49m\u001b[38;5;241;43m.\u001b[39;49m\u001b[43mpush_to_hub\u001b[49m\u001b[43m(\u001b[49m\u001b[43mcommit_message\u001b[49m\u001b[38;5;241;43m=\u001b[39;49m\u001b[38;5;124;43m\"\u001b[39;49m\u001b[38;5;124;43mUpload HOG_Softmax model\u001b[39;49m\u001b[38;5;124;43m\"\u001b[39;49m\u001b[43m,\u001b[49m\u001b[43m \u001b[49m\u001b[43mfiles_to_push\u001b[49m\u001b[38;5;241;43m=\u001b[39;49m\u001b[43m[\u001b[49m\u001b[43mMODEL_FILE\u001b[49m\u001b[43m]\u001b[49m\u001b[43m)\u001b[49m\n\u001b[0;32m     13\u001b[0m \u001b[38;5;28mprint\u001b[39m(\u001b[38;5;124m\"\u001b[39m\u001b[38;5;124mModel uploaded successfully!\u001b[39m\u001b[38;5;124m\"\u001b[39m)\n",
      "\u001b[1;31mTypeError\u001b[0m: Repository.push_to_hub() got an unexpected keyword argument 'files_to_push'"
     ]
    }
   ],
   "source": [
    "from huggingface_hub import Repository\n",
    "\n",
    "REPO_URL = \"https://huggingface.co/ibrahimsultan/HOG_Softmax_image_classifier\"\n",
    "LOCAL_PATH = \"HOG_Softmax_image_classifier\"  # Local directory to clone the repo\n",
    "MODEL_FILE = \"softmax_HOG.pth\"  # Path to the model file\n",
    "\n",
    "repo = Repository(local_dir=LOCAL_PATH, clone_from=REPO_URL)\n",
    "repo.git_pull()  # Pull the latest changes\n",
    "\n",
    "repo.lfs_track([MODEL_FILE])  # Track large files with Git LFS\n",
    "repo.push_to_hub(commit_message=\"Upload HOG_Softmax model\", files_to_push=[MODEL_FILE])\n",
    "\n",
    "print(\"Model uploaded successfully!\")\n"
   ]
  }
 ],
 "metadata": {
  "kaggle": {
   "accelerator": "nvidiaTeslaT4",
   "dataSources": [
    {
     "datasetId": 2052868,
     "sourceId": 3405737,
     "sourceType": "datasetVersion"
    }
   ],
   "dockerImageVersionId": 30839,
   "isGpuEnabled": true,
   "isInternetEnabled": true,
   "language": "python",
   "sourceType": "notebook"
  },
  "kernelspec": {
   "display_name": ".venv",
   "language": "python",
   "name": "python3"
  },
  "language_info": {
   "codemirror_mode": {
    "name": "ipython",
    "version": 3
   },
   "file_extension": ".py",
   "mimetype": "text/x-python",
   "name": "python",
   "nbconvert_exporter": "python",
   "pygments_lexer": "ipython3",
   "version": "3.12.5"
  }
 },
 "nbformat": 4,
 "nbformat_minor": 4
}
